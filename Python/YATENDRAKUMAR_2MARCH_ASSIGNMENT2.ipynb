{
 "cells": [
  {
   "cell_type": "markdown",
   "id": "0dcd40a1",
   "metadata": {},
   "source": [
    "1.\tCreate a python program to find duplicate files by content. User will input path and it will scan all directories, sub-directories to find all duplicates files. Delete the found duplicate file\n"
   ]
  },
  {
   "cell_type": "code",
   "execution_count": 1,
   "id": "e56d17f5",
   "metadata": {},
   "outputs": [
    {
     "name": "stdout",
     "output_type": "stream",
     "text": [
      "{'test.txt', 'fakfile.txt', 'New Text Document.txt'}\n"
     ]
    }
   ],
   "source": [
    "import hashlib\n",
    "import os\n",
    "directory=[]\n",
    "dirpath=\"C:/Users/yatekumar/Desktop/files\"\n",
    "\n",
    "\n",
    "for(dir_path,dir_names,file_name) in os.walk(dirpath):\n",
    "    directory.extend(file_name)\n",
    "\n",
    "hashes = {}\n",
    "result = set()\n",
    "for i in range(len(directory)):\n",
    "    fileObj = open('C:/Users/yatekumar/Desktop/files/'+directory[i],'r')\n",
    "    content = fileObj.read()\n",
    "    content=str(content)\n",
    "    \n",
    "    message = hashlib.sha256()\n",
    "    message.update(bytes(content, 'utf-8'))\n",
    "    hashcode=message.hexdigest()\n",
    "    \n",
    "    if hashcode in hashes.keys():\n",
    "        result.add(hashes[hashcode])\n",
    "        result.add(directory[i])\n",
    "        \n",
    "    else:\n",
    "        hashes[hashcode]=directory[i]\n",
    "        \n",
    "print(result)\n",
    "        \n",
    "    \n"
   ]
  },
  {
   "cell_type": "markdown",
   "id": "8d068201",
   "metadata": {},
   "source": [
    "2.\tGenerate random Password with exact length = 6, with minimum 1 uppercase, 2 lowercase, 2 digits, and remaining special characters. Using these packages [random, strings]\n",
    "\n"
   ]
  },
  {
   "cell_type": "code",
   "execution_count": 2,
   "id": "bb608ca3",
   "metadata": {},
   "outputs": [
    {
     "data": {
      "text/plain": [
       "'generated password is = Ust17@'"
      ]
     },
     "execution_count": 2,
     "metadata": {},
     "output_type": "execute_result"
    }
   ],
   "source": [
    "import random \n",
    "import string\n",
    "\n",
    "def genPass():\n",
    "    upperletters=string.ascii_uppercase\n",
    "    lowerletters=string.ascii_lowercase\n",
    "    digits = [1,2,3,4,5,6,7,8,9,0]\n",
    "    special=[\"<\",\">\",\"?\",\"!\",\"@\",\"#\",\"$\",\"%\",\"&\"]\n",
    "    \n",
    "    password = random.choice(upperletters)+random.choice(lowerletters)+random.choice(lowerletters)+str(random.choice(digits))+str(random.choice(digits))+random.choice(special)\n",
    "    \n",
    "        \n",
    "    return \"generated password is = \"+password\n",
    "\n",
    "genPass()\n",
    "    "
   ]
  },
  {
   "cell_type": "markdown",
   "id": "61f15e74",
   "metadata": {},
   "source": [
    "3.\tCreate 2D array and update the same 2D array provided that every prime number position should be replaced by cube of the positioned number.\n",
    "\n"
   ]
  },
  {
   "cell_type": "code",
   "execution_count": 22,
   "id": "26926117",
   "metadata": {},
   "outputs": [
    {
     "name": "stdout",
     "output_type": "stream",
     "text": [
      "4\n",
      "4\n",
      "2\n",
      "3\n",
      "6\n",
      "2\n",
      "6\n",
      "5\n",
      "2\n",
      "1\n",
      "4\n",
      "6\n",
      "7\n",
      "8\n",
      "2\n",
      "4\n",
      "2\n",
      "4\n",
      "[[  8.  27. 216.   8.]\n",
      " [  6. 125.   2.   1.]\n",
      " [  4. 216.   7. 512.]\n",
      " [  2.  64.   2.  64.]]\n"
     ]
    }
   ],
   "source": [
    "## import numpy as np\n",
    "import math\n",
    "def isPrime(num):\n",
    "    \n",
    "    for i in range(2,int(math.sqrt(num))+1):\n",
    "        if num%2==0:\n",
    "            return False;\n",
    "\n",
    "    return True;\n",
    "\n",
    "#Taking input\n",
    "rows = int(input())\n",
    "cols = int(input())\n",
    "\n",
    "# declaring array with ones\n",
    "arr = np.ones((rows,cols),'float')\n",
    "\n",
    "# initialise array with user values\n",
    "\n",
    "for i in range(rows):\n",
    "    for j in range(cols):\n",
    "        arr[i][j] = int(input())\n",
    "        \n",
    "        \n",
    "# replace prime number by cube of the number\n",
    "position=-1\n",
    "for i in range(rows):\n",
    "    for j in range(cols):\n",
    "        position+=1\n",
    "        if isPrime(position):\n",
    "            arr[i][j] = arr[i][j]*arr[i][j]*arr[i][j]\n",
    "\n",
    "print(arr)\n"
   ]
  },
  {
   "cell_type": "markdown",
   "id": "dbf23d28",
   "metadata": {},
   "source": [
    "4.\tPython program to get the sum of every cubed value and its previous integer. "
   ]
  },
  {
   "cell_type": "code",
   "execution_count": 23,
   "id": "13dbb1a8",
   "metadata": {},
   "outputs": [
    {
     "name": "stdout",
     "output_type": "stream",
     "text": [
      "3\n",
      "3\n",
      "1\n",
      "2\n",
      "4\n",
      "5\n",
      "2\n",
      "6\n",
      "8\n",
      "4\n",
      "3\n",
      "[[  1.   8.  64.]\n",
      " [125.   2. 216.]\n",
      " [  8.  64.   3.]]\n",
      "561.0\n"
     ]
    }
   ],
   "source": [
    "## import numpy as np\n",
    "import math\n",
    "def isPrime(num):\n",
    "    \n",
    "    for i in range(2,int(math.sqrt(num))+1):\n",
    "        if num%2==0:\n",
    "            return False;\n",
    "\n",
    "    return True;\n",
    "\n",
    "#Taking input\n",
    "rows = int(input())\n",
    "cols = int(input())\n",
    "\n",
    "# declaring array with ones\n",
    "arr = np.ones((rows,cols),'float')\n",
    "\n",
    "# initialise array with user values\n",
    "\n",
    "for i in range(rows):\n",
    "    for j in range(cols):\n",
    "        arr[i][j] = int(input())\n",
    "        \n",
    "        \n",
    "# replace prime number by cube of the number\n",
    "position=-1\n",
    "previous = 0\n",
    "sum=0\n",
    "for i in range(rows):\n",
    "    for j in range(cols):\n",
    "        position+=1\n",
    "        if isPrime(position):\n",
    "            arr[i][j] = arr[i][j]*arr[i][j]*arr[i][j]\n",
    "            sum=sum+arr[i][j]+previous\n",
    "            \n",
    "        previous = arr[i][j]\n",
    "print(arr)\n",
    "print(sum)\n"
   ]
  },
  {
   "cell_type": "markdown",
   "id": "36cd521c",
   "metadata": {},
   "source": [
    "5.Given two arrays, find their intersection. Examples:\n",
    "\n",
    "Input:  arr1[] = [1, 3, 4, 5, 7]\n",
    "        arr2[] = [2, 3, 5, 6]\n"
   ]
  },
  {
   "cell_type": "code",
   "execution_count": 8,
   "id": "2f6ce7c4",
   "metadata": {},
   "outputs": [
    {
     "data": {
      "text/plain": [
       "[3, 5]"
      ]
     },
     "execution_count": 8,
     "metadata": {},
     "output_type": "execute_result"
    }
   ],
   "source": [
    "import numpy as mp\n",
    "\n",
    "arr1 = [1, 3, 4, 5, 7]\n",
    "arr2 = [2, 3, 5, 6]\n",
    "\n",
    "def intersection(lst1, lst2):\n",
    "    res = [value for value in lst1 if value in lst2]\n",
    "    return res\n",
    "\n",
    "intersection(arr1,arr2)"
   ]
  },
  {
   "cell_type": "markdown",
   "id": "31e5d8c4",
   "metadata": {},
   "source": [
    "6.\tCreate a 7 x 7  2D array having only multiples of 7. And return the last element of the same."
   ]
  },
  {
   "cell_type": "code",
   "execution_count": 15,
   "id": "3588f0d4",
   "metadata": {},
   "outputs": [
    {
     "name": "stdout",
     "output_type": "stream",
     "text": [
      "[[  7  14  21  28  35  42  49]\n",
      " [ 56  63  70  77  84  91  98]\n",
      " [105 112 119 126 133 140 147]\n",
      " [154 161 168 175 182 189 196]\n",
      " [203 210 217 224 231 238 245]\n",
      " [252 259 266 273 280 287 294]\n",
      " [301 308 315 322 329 336 343]]\n",
      "343\n"
     ]
    }
   ],
   "source": [
    "arr = np.ones((7,7),\"int64\")\n",
    "\n",
    "position=1\n",
    "for i in range(7):\n",
    "    for j in range(7):\n",
    "        if i==0 and j==0:\n",
    "            arr[0][0]=7\n",
    "            position+=1\n",
    "        else:\n",
    "            arr[i][j]=7*position\n",
    "            position+=1\n",
    "            \n",
    "print(arr)\n",
    "print(arr[6][6])"
   ]
  },
  {
   "cell_type": "raw",
   "id": "8a33f5d0",
   "metadata": {},
   "source": [
    "7.\tChecker Board Patten using Numpy:\n",
    "\n",
    "    1   0   1   0   1   0   1 \n",
    "    0   1   0   1   0   1   0\n",
    "    1   0   1   0   1   0   1\n",
    "    0   1   0   1   0   1   0\n",
    "    1   0   1   0   1   0   1 \n"
   ]
  },
  {
   "cell_type": "code",
   "execution_count": 16,
   "id": "2a049d9c",
   "metadata": {},
   "outputs": [
    {
     "name": "stdout",
     "output_type": "stream",
     "text": [
      "8\n",
      "8\n",
      "[[1 0 1 0 1 0 1 0]\n",
      " [0 1 0 1 0 1 0 1]\n",
      " [1 0 1 0 1 0 1 0]\n",
      " [0 1 0 1 0 1 0 1]\n",
      " [1 0 1 0 1 0 1 0]\n",
      " [0 1 0 1 0 1 0 1]\n",
      " [1 0 1 0 1 0 1 0]\n",
      " [0 1 0 1 0 1 0 1]]\n"
     ]
    }
   ],
   "source": [
    "import numpy as np\n",
    "rows = int(input())\n",
    "col = int(input())\n",
    "\n",
    "arr = np.ones((rows,col),'int8')\n",
    "\n",
    "for i in range(rows):\n",
    "    for j in range(col):\n",
    "        if (i+j)%2==1:\n",
    "            arr[i][j]=0\n",
    "            \n",
    "print(arr)"
   ]
  },
  {
   "cell_type": "raw",
   "id": "f990f331",
   "metadata": {},
   "source": [
    "8.\tCreate a given Matrix:\n",
    "[  A,     B,     C,       D\n",
    "   E,     F,     G,       H\n",
    "   I,     a,     K,       L\n",
    "   M,     N,     o,       P\n",
    "   Q,     R,     S,       T\n",
    "   U,     0,     W,       O ]\n",
    "\n",
    "Replace all the vowels by np.nan\n",
    "A, E, I, O U  -- >  np.nan\n",
    "Return the count of the missing values\n"
   ]
  },
  {
   "cell_type": "code",
   "execution_count": 17,
   "id": "4a049b51",
   "metadata": {},
   "outputs": [
    {
     "name": "stdout",
     "output_type": "stream",
     "text": [
      "[[nan, 'B', 'C', 'D'], [nan, 'F', 'G', 'H'], [nan, nan, 'K', 'L'], ['M', 'N', nan, 'P'], ['Q', 'R', 'S', 'T'], [nan, '0', 'W', nan]]\n",
      "Totel vowels are =  7\n"
     ]
    }
   ],
   "source": [
    "arr = [['A','B','C','D'],\n",
    "       ['E','F','G','H'],\n",
    "       ['I','a','K','L'],\n",
    "       ['M','N','o','P'],\n",
    "       ['Q','R','S','T'],\n",
    "       ['U','0','W','O']]\n",
    "counter=0\n",
    "\n",
    "for i in range(len(arr)):\n",
    "    for j in range(len(arr[0])):\n",
    "        if arr[i][j]=='A' or arr[i][j]=='E' or arr[i][j]=='I' or arr[i][j]=='O' or arr[i][j]=='U'or arr[i][j] =='a' or arr[i][j]=='e' or arr[i][j]==\"i\" or arr[i][j]=='o' or arr[i][j]=='u':\n",
    "            arr[i][j]=np.nan\n",
    "            counter+=1\n",
    "                \n",
    "\n",
    "print(arr)\n",
    "print(\"Totel vowels are = \",counter)"
   ]
  },
  {
   "cell_type": "code",
   "execution_count": null,
   "id": "0aad7b04",
   "metadata": {},
   "outputs": [],
   "source": []
  }
 ],
 "metadata": {
  "kernelspec": {
   "display_name": "Python 3 (ipykernel)",
   "language": "python",
   "name": "python3"
  },
  "language_info": {
   "codemirror_mode": {
    "name": "ipython",
    "version": 3
   },
   "file_extension": ".py",
   "mimetype": "text/x-python",
   "name": "python",
   "nbconvert_exporter": "python",
   "pygments_lexer": "ipython3",
   "version": "3.9.13"
  }
 },
 "nbformat": 4,
 "nbformat_minor": 5
}
